{
 "cells": [
  {
   "cell_type": "code",
   "execution_count": 2,
   "id": "323c1c1a",
   "metadata": {},
   "outputs": [],
   "source": [
    "## for getting reverse complements\n",
    "\n",
    "import csv\n",
    "\n",
    "def reverse_complement(seq):\n",
    "    complement = {'A': 'T', 'C': 'G', 'G': 'C', 'T': 'A'}\n",
    "    seq = seq.lstrip('\\ufeff')  # remove UTF-8 BOM character\n",
    "    rev_seq = seq[::-1]\n",
    "    rev_comp_seq = ''.join([complement[base] for base in rev_seq])\n",
    "    return rev_comp_seq\n",
    "\n",
    "with open('sgRNA_list.csv', 'r') as csvfile:\n",
    "    reader = csv.reader(csvfile)\n",
    "    sgRNA_list = [row[0] for row in reader]\n",
    "\n",
    "rc_sgRNA_list = [reverse_complement(sgRNA) for sgRNA in sgRNA_list]\n",
    "\n",
    "with open('rc_sgRNA_list.csv', 'w', newline='') as csvfile:\n",
    "    writer = csv.writer(csvfile)\n",
    "    for sgRNA in rc_sgRNA_list:\n",
    "        writer.writerow([sgRNA])\n"
   ]
  },
  {
   "cell_type": "code",
   "execution_count": 6,
   "id": "311a34ec",
   "metadata": {},
   "outputs": [],
   "source": [
    "## for only getting reverse sequences:\n",
    "\n",
    "import csv\n",
    "\n",
    "def reverse_sequence(seq):\n",
    "    return seq[::-1]\n",
    "\n",
    "# Read sgRNA sequences from input CSV file\n",
    "with open('three_five.csv', 'r') as f:\n",
    "    reader = csv.reader(f)\n",
    "    sgRNA_list = [row[0] for row in reader]\n",
    "\n",
    "# Compute reverse of each sequence\n",
    "reverse_sgRNA_list = [reverse_sequence(sgRNA) for sgRNA in sgRNA_list]\n",
    "\n",
    "# Write reversed sequences to output CSV file\n",
    "with open('reverse_sgRNAs.csv', 'w', newline='') as f:\n",
    "    writer = csv.writer(f)\n",
    "    for sgRNA in reverse_sgRNA_list:\n",
    "        writer.writerow([sgRNA])\n"
   ]
  },
  {
   "cell_type": "code",
   "execution_count": 7,
   "id": "a9ad563a",
   "metadata": {},
   "outputs": [
    {
     "name": "stdout",
     "output_type": "stream",
     "text": [
      "['CCATCAGGCGGAAGCTTTTT', 'GCCGCACATCGTCCTGTTTT', 'ACGCTTTCGGTCGATGTTTT', 'GTTGAGTTTACTGCTATTTT']\n"
     ]
    }
   ],
   "source": [
    "## for getting reverse complement of the nontarget controls:\n",
    "\n",
    "def reverse_complement(seq):\n",
    "    complement = {'A': 'T', 'C': 'G', 'G': 'C', 'T': 'A'}\n",
    "    rev_seq = seq[::-1]\n",
    "    rev_comp_seq = ''.join([complement[base] for base in rev_seq])\n",
    "    return rev_comp_seq\n",
    "sgRNA_list = ['AAAAAGCTTCCGCCTGATGG',\n",
    "              'AAAACAGGACGATGTGCGGC',\n",
    "              'AAAACATCGACCGAAAGCGT',\n",
    "              'AAAATAGCAGTAAACTCAAC']\n",
    "\n",
    "rc_sgRNA_list = [reverse_complement(sgRNA) for sgRNA in sgRNA_list]\n",
    "\n",
    "print(rc_sgRNA_list)\n"
   ]
  },
  {
   "cell_type": "code",
   "execution_count": 7,
   "id": "7956586c",
   "metadata": {},
   "outputs": [],
   "source": [
    "##for reformatting the sgRNA oligos to an order-ready layout\n",
    "\n",
    "import csv\n",
    "\n",
    "# Open the input file\n",
    "with open('input.csv', newline='') as infile:\n",
    "    reader = csv.reader(infile)\n",
    "    # Open the output file\n",
    "    with open('output.csv', 'w', newline='') as outfile:\n",
    "        writer = csv.writer(outfile)\n",
    "        # Loop through the rows of the input file\n",
    "        for i, row in enumerate(reader):\n",
    "            # Check if we're starting a new pair of rows\n",
    "            if i % 2 == 0:\n",
    "                # If so, write out the first column pair\n",
    "                writer.writerow([row[0], row[1]])\n",
    "            else:\n",
    "                # Otherwise, write out the second column pair\n",
    "                writer.writerow([row[2], row[3]])\n"
   ]
  },
  {
   "cell_type": "code",
   "execution_count": 8,
   "id": "43b55118",
   "metadata": {},
   "outputs": [],
   "source": [
    "import csv\n",
    "\n",
    "with open('input.csv') as infile, open('output2.csv', 'w', newline='') as outfile:\n",
    "    reader = csv.reader(infile)\n",
    "    writer = csv.writer(outfile, delimiter='\\t')\n",
    "    for row in reader:\n",
    "        for i in range(0, len(row), 2):\n",
    "            writer.writerow([row[i], row[i+1]])\n"
   ]
  },
  {
   "cell_type": "code",
   "execution_count": null,
   "id": "767f72c3",
   "metadata": {},
   "outputs": [],
   "source": []
  }
 ],
 "metadata": {
  "kernelspec": {
   "display_name": "Python 3 (ipykernel)",
   "language": "python",
   "name": "python3"
  },
  "language_info": {
   "codemirror_mode": {
    "name": "ipython",
    "version": 3
   },
   "file_extension": ".py",
   "mimetype": "text/x-python",
   "name": "python",
   "nbconvert_exporter": "python",
   "pygments_lexer": "ipython3",
   "version": "3.9.7"
  }
 },
 "nbformat": 4,
 "nbformat_minor": 5
}
